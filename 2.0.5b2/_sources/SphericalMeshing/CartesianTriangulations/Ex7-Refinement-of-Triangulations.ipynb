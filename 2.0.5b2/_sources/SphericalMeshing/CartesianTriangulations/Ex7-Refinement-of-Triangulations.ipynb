{
 "cells": [
  {
   "cell_type": "markdown",
   "metadata": {},
   "source": [
    "# Example 7 - Refining a triangulation\n",
    "\n",
    "\n",
    "We have seen how the standard meshes can be uniformly refined to finer resolution. The routines used for this task are available to the `stripy` user for non-uniform refinement as well. \n",
    "\n",
    "\n",
    "## Notebook contents\n",
    "\n",
    "   - [Uniform meshes](#Uniform-meshes-by-refinement)\n",
    "   - [Refinement strategies](#Refinement-strategies)\n",
    "   - [Visualisation](#Visualisation-of-refinement-strategies)\n",
    "   - [Targetted refinement](#Targetted-refinement)\n",
    "   - [Visualisation](#Visualisation-of-targetted-refinement)"
   ]
  },
  {
   "cell_type": "code",
   "execution_count": 1,
   "metadata": {},
   "outputs": [],
   "source": [
    "import stripy as stripy\n",
    "import numpy as np\n",
    "\n",
    "xmin = 0.0\n",
    "xmax = 10.0\n",
    "ymin = 0.0\n",
    "ymax = 10.0\n",
    "extent = [xmin, xmax, ymin, ymax]\n",
    "\n",
    "spacingX = 0.5\n",
    "spacingY = 0.5"
   ]
  },
  {
   "cell_type": "markdown",
   "metadata": {},
   "source": [
    "## Uniform meshes by refinement\n",
    "\n",
    "The `refinement_level` parameter of the `stripy` meshes makes repeated loops determining the bisection points of all the existing edges in the triangulation and then creating a new triangulation that includes these points and the original ones. These refinement operations can also be used for non-uniform refinement."
   ]
  },
  {
   "cell_type": "code",
   "execution_count": 2,
   "metadata": {},
   "outputs": [
    {
     "name": "stdout",
     "output_type": "stream",
     "text": [
      "Size of mesh - 1  253\n",
      "Size of mesh - 2  739\n",
      "Size of mesh - 3  2197\n",
      "Size of mesh - 4  6571\n",
      "Size of mesh - 5  19693\n",
      "Size of mesh - 6  59059\n",
      "Size of mesh - 7  177157\n"
     ]
    }
   ],
   "source": [
    "ellip0 = stripy.cartesian_meshes.elliptical_mesh(extent, spacingX, spacingY, refinement_levels=0)\n",
    "ellip1 = stripy.cartesian_meshes.elliptical_mesh(extent, spacingX, spacingY, refinement_levels=1)\n",
    "ellip2 = stripy.cartesian_meshes.elliptical_mesh(extent, spacingX, spacingY, refinement_levels=2)\n",
    "ellip3 = stripy.cartesian_meshes.elliptical_mesh(extent, spacingX, spacingY, refinement_levels=3)\n",
    "ellip4 = stripy.cartesian_meshes.elliptical_mesh(extent, spacingX, spacingY, refinement_levels=4)\n",
    "ellip5 = stripy.cartesian_meshes.elliptical_mesh(extent, spacingX, spacingY, refinement_levels=5)\n",
    "ellip6 = stripy.cartesian_meshes.elliptical_mesh(extent, spacingX, spacingY, refinement_levels=6)\n",
    "ellip7 = stripy.cartesian_meshes.elliptical_mesh(extent, spacingX, spacingY, refinement_levels=7)\n",
    "\n",
    "print(\"Size of mesh - 1  {}\".format(ellip1.points.shape[0]))\n",
    "print(\"Size of mesh - 2  {}\".format(ellip2.points.shape[0]))\n",
    "print(\"Size of mesh - 3  {}\".format(ellip3.points.shape[0]))\n",
    "print(\"Size of mesh - 4  {}\".format(ellip4.points.shape[0]))\n",
    "print(\"Size of mesh - 5  {}\".format(ellip5.points.shape[0]))\n",
    "print(\"Size of mesh - 6  {}\".format(ellip6.points.shape[0]))\n",
    "print(\"Size of mesh - 7  {}\".format(ellip7.points.shape[0]))"
   ]
  },
  {
   "cell_type": "markdown",
   "metadata": {},
   "source": [
    "## Refinement strategies\n",
    "\n",
    "Five refinement strategies:\n",
    "\n",
    "   - Bisect all segments connected to a given node\n",
    "   - Refine all triangles connected to a given node by adding a point at the centroid or bisecting all edges\n",
    "   - Refine a given triangle by adding a point at the centroid or bisecting all edges\n",
    "   \n",
    "These are provided as follows:"
   ]
  },
  {
   "cell_type": "code",
   "execution_count": 3,
   "metadata": {},
   "outputs": [
    {
     "name": "stdout",
     "output_type": "stream",
     "text": [
      "refinement --- 795 points, 1570 simplices\n",
      "refinement --- 849 points, 1678 simplices\n",
      "refinement --- 795 points, 1570 simplices\n",
      "refinement --- 760 points, 1500 simplices\n",
      "refinement --- 749 points, 1478 simplices\n"
     ]
    }
   ],
   "source": [
    "mx, my = ellip2.midpoint_refine_triangulation_by_vertices(vertices=[1,2,3,4,5,6,7,8,9,10])\n",
    "ellip2mv = stripy.Triangulation(mx, my)\n",
    "\n",
    "mx, my = ellip2.edge_refine_triangulation_by_vertices(vertices=[1,2,3,4,5,6,7,8,9,10])\n",
    "ellip2ev = stripy.Triangulation(mx, my)\n",
    "\n",
    "mx, my = ellip2.centroid_refine_triangulation_by_vertices(vertices=[1,2,3,4,5,6,7,8,9,10])\n",
    "ellip2cv = stripy.Triangulation(mx, my)\n",
    "\n",
    "mx, my = ellip2.edge_refine_triangulation_by_triangles(triangles=[1,2,3,4,5,6,7,8,9,10])\n",
    "ellip2et = stripy.Triangulation(mx, my)\n",
    "\n",
    "mx, my = ellip2.centroid_refine_triangulation_by_triangles(triangles=[1,2,3,4,5,6,7,8,9,10])\n",
    "ellip2ct = stripy.Triangulation(mx, my)\n",
    "\n",
    "\n",
    "str_fmt = \"refinement --- {} points, {} simplices\"\n",
    "print(str_fmt.format(ellip2mv.npoints, ellip2mv.simplices.shape[0]))\n",
    "print(str_fmt.format(ellip2ev.npoints, ellip2ev.simplices.shape[0]))\n",
    "print(str_fmt.format(ellip2cv.npoints, ellip2cv.simplices.shape[0]))\n",
    "print(str_fmt.format(ellip2et.npoints, ellip2et.simplices.shape[0]))\n",
    "print(str_fmt.format(ellip2ct.npoints, ellip2ct.simplices.shape[0]))"
   ]
  },
  {
   "cell_type": "markdown",
   "metadata": {},
   "source": [
    "## Visualisation of refinement strategies"
   ]
  },
  {
   "cell_type": "code",
   "execution_count": 4,
   "metadata": {},
   "outputs": [
    {
     "ename": "ModuleNotFoundError",
     "evalue": "No module named 'matplotlib'",
     "output_type": "error",
     "traceback": [
      "\u001b[0;31m---------------------------------------------------------------------------\u001b[0m",
      "\u001b[0;31mModuleNotFoundError\u001b[0m                       Traceback (most recent call last)",
      "\u001b[0;32m<ipython-input-4-e572a18980d6>\u001b[0m in \u001b[0;36m<module>\u001b[0;34m\u001b[0m\n\u001b[0;32m----> 1\u001b[0;31m \u001b[0mget_ipython\u001b[0m\u001b[0;34m(\u001b[0m\u001b[0;34m)\u001b[0m\u001b[0;34m.\u001b[0m\u001b[0mrun_line_magic\u001b[0m\u001b[0;34m(\u001b[0m\u001b[0;34m'matplotlib'\u001b[0m\u001b[0;34m,\u001b[0m \u001b[0;34m'inline'\u001b[0m\u001b[0;34m)\u001b[0m\u001b[0;34m\u001b[0m\u001b[0;34m\u001b[0m\u001b[0m\n\u001b[0m\u001b[1;32m      2\u001b[0m \u001b[0;32mimport\u001b[0m \u001b[0mmatplotlib\u001b[0m\u001b[0;34m.\u001b[0m\u001b[0mpyplot\u001b[0m \u001b[0;32mas\u001b[0m \u001b[0mplt\u001b[0m\u001b[0;34m\u001b[0m\u001b[0;34m\u001b[0m\u001b[0m\n\u001b[1;32m      3\u001b[0m \u001b[0;34m\u001b[0m\u001b[0m\n\u001b[1;32m      4\u001b[0m \u001b[0;34m\u001b[0m\u001b[0m\n\u001b[1;32m      5\u001b[0m \u001b[0;32mdef\u001b[0m \u001b[0mmesh_fig\u001b[0m\u001b[0;34m(\u001b[0m\u001b[0mmesh\u001b[0m\u001b[0;34m,\u001b[0m \u001b[0mmeshR\u001b[0m\u001b[0;34m,\u001b[0m \u001b[0mname\u001b[0m\u001b[0;34m)\u001b[0m\u001b[0;34m:\u001b[0m\u001b[0;34m\u001b[0m\u001b[0;34m\u001b[0m\u001b[0m\n",
      "\u001b[0;32m~/miniconda3/envs/conda-build-docs/lib/python3.8/site-packages/IPython/core/interactiveshell.py\u001b[0m in \u001b[0;36mrun_line_magic\u001b[0;34m(self, magic_name, line, _stack_depth)\u001b[0m\n\u001b[1;32m   2325\u001b[0m                 \u001b[0mkwargs\u001b[0m\u001b[0;34m[\u001b[0m\u001b[0;34m'local_ns'\u001b[0m\u001b[0;34m]\u001b[0m \u001b[0;34m=\u001b[0m \u001b[0mself\u001b[0m\u001b[0;34m.\u001b[0m\u001b[0mget_local_scope\u001b[0m\u001b[0;34m(\u001b[0m\u001b[0mstack_depth\u001b[0m\u001b[0;34m)\u001b[0m\u001b[0;34m\u001b[0m\u001b[0;34m\u001b[0m\u001b[0m\n\u001b[1;32m   2326\u001b[0m             \u001b[0;32mwith\u001b[0m \u001b[0mself\u001b[0m\u001b[0;34m.\u001b[0m\u001b[0mbuiltin_trap\u001b[0m\u001b[0;34m:\u001b[0m\u001b[0;34m\u001b[0m\u001b[0;34m\u001b[0m\u001b[0m\n\u001b[0;32m-> 2327\u001b[0;31m                 \u001b[0mresult\u001b[0m \u001b[0;34m=\u001b[0m \u001b[0mfn\u001b[0m\u001b[0;34m(\u001b[0m\u001b[0;34m*\u001b[0m\u001b[0margs\u001b[0m\u001b[0;34m,\u001b[0m \u001b[0;34m**\u001b[0m\u001b[0mkwargs\u001b[0m\u001b[0;34m)\u001b[0m\u001b[0;34m\u001b[0m\u001b[0;34m\u001b[0m\u001b[0m\n\u001b[0m\u001b[1;32m   2328\u001b[0m             \u001b[0;32mreturn\u001b[0m \u001b[0mresult\u001b[0m\u001b[0;34m\u001b[0m\u001b[0;34m\u001b[0m\u001b[0m\n\u001b[1;32m   2329\u001b[0m \u001b[0;34m\u001b[0m\u001b[0m\n",
      "\u001b[0;32m<decorator-gen-101>\u001b[0m in \u001b[0;36mmatplotlib\u001b[0;34m(self, line)\u001b[0m\n",
      "\u001b[0;32m~/miniconda3/envs/conda-build-docs/lib/python3.8/site-packages/IPython/core/magic.py\u001b[0m in \u001b[0;36m<lambda>\u001b[0;34m(f, *a, **k)\u001b[0m\n\u001b[1;32m    185\u001b[0m     \u001b[0;31m# but it's overkill for just that one bit of state.\u001b[0m\u001b[0;34m\u001b[0m\u001b[0;34m\u001b[0m\u001b[0;34m\u001b[0m\u001b[0m\n\u001b[1;32m    186\u001b[0m     \u001b[0;32mdef\u001b[0m \u001b[0mmagic_deco\u001b[0m\u001b[0;34m(\u001b[0m\u001b[0marg\u001b[0m\u001b[0;34m)\u001b[0m\u001b[0;34m:\u001b[0m\u001b[0;34m\u001b[0m\u001b[0;34m\u001b[0m\u001b[0m\n\u001b[0;32m--> 187\u001b[0;31m         \u001b[0mcall\u001b[0m \u001b[0;34m=\u001b[0m \u001b[0;32mlambda\u001b[0m \u001b[0mf\u001b[0m\u001b[0;34m,\u001b[0m \u001b[0;34m*\u001b[0m\u001b[0ma\u001b[0m\u001b[0;34m,\u001b[0m \u001b[0;34m**\u001b[0m\u001b[0mk\u001b[0m\u001b[0;34m:\u001b[0m \u001b[0mf\u001b[0m\u001b[0;34m(\u001b[0m\u001b[0;34m*\u001b[0m\u001b[0ma\u001b[0m\u001b[0;34m,\u001b[0m \u001b[0;34m**\u001b[0m\u001b[0mk\u001b[0m\u001b[0;34m)\u001b[0m\u001b[0;34m\u001b[0m\u001b[0;34m\u001b[0m\u001b[0m\n\u001b[0m\u001b[1;32m    188\u001b[0m \u001b[0;34m\u001b[0m\u001b[0m\n\u001b[1;32m    189\u001b[0m         \u001b[0;32mif\u001b[0m \u001b[0mcallable\u001b[0m\u001b[0;34m(\u001b[0m\u001b[0marg\u001b[0m\u001b[0;34m)\u001b[0m\u001b[0;34m:\u001b[0m\u001b[0;34m\u001b[0m\u001b[0;34m\u001b[0m\u001b[0m\n",
      "\u001b[0;32m~/miniconda3/envs/conda-build-docs/lib/python3.8/site-packages/IPython/core/magics/pylab.py\u001b[0m in \u001b[0;36mmatplotlib\u001b[0;34m(self, line)\u001b[0m\n\u001b[1;32m     97\u001b[0m             \u001b[0mprint\u001b[0m\u001b[0;34m(\u001b[0m\u001b[0;34m\"Available matplotlib backends: %s\"\u001b[0m \u001b[0;34m%\u001b[0m \u001b[0mbackends_list\u001b[0m\u001b[0;34m)\u001b[0m\u001b[0;34m\u001b[0m\u001b[0;34m\u001b[0m\u001b[0m\n\u001b[1;32m     98\u001b[0m         \u001b[0;32melse\u001b[0m\u001b[0;34m:\u001b[0m\u001b[0;34m\u001b[0m\u001b[0;34m\u001b[0m\u001b[0m\n\u001b[0;32m---> 99\u001b[0;31m             \u001b[0mgui\u001b[0m\u001b[0;34m,\u001b[0m \u001b[0mbackend\u001b[0m \u001b[0;34m=\u001b[0m \u001b[0mself\u001b[0m\u001b[0;34m.\u001b[0m\u001b[0mshell\u001b[0m\u001b[0;34m.\u001b[0m\u001b[0menable_matplotlib\u001b[0m\u001b[0;34m(\u001b[0m\u001b[0margs\u001b[0m\u001b[0;34m.\u001b[0m\u001b[0mgui\u001b[0m\u001b[0;34m.\u001b[0m\u001b[0mlower\u001b[0m\u001b[0;34m(\u001b[0m\u001b[0;34m)\u001b[0m \u001b[0;32mif\u001b[0m \u001b[0misinstance\u001b[0m\u001b[0;34m(\u001b[0m\u001b[0margs\u001b[0m\u001b[0;34m.\u001b[0m\u001b[0mgui\u001b[0m\u001b[0;34m,\u001b[0m \u001b[0mstr\u001b[0m\u001b[0;34m)\u001b[0m \u001b[0;32melse\u001b[0m \u001b[0margs\u001b[0m\u001b[0;34m.\u001b[0m\u001b[0mgui\u001b[0m\u001b[0;34m)\u001b[0m\u001b[0;34m\u001b[0m\u001b[0;34m\u001b[0m\u001b[0m\n\u001b[0m\u001b[1;32m    100\u001b[0m             \u001b[0mself\u001b[0m\u001b[0;34m.\u001b[0m\u001b[0m_show_matplotlib_backend\u001b[0m\u001b[0;34m(\u001b[0m\u001b[0margs\u001b[0m\u001b[0;34m.\u001b[0m\u001b[0mgui\u001b[0m\u001b[0;34m,\u001b[0m \u001b[0mbackend\u001b[0m\u001b[0;34m)\u001b[0m\u001b[0;34m\u001b[0m\u001b[0;34m\u001b[0m\u001b[0m\n\u001b[1;32m    101\u001b[0m \u001b[0;34m\u001b[0m\u001b[0m\n",
      "\u001b[0;32m~/miniconda3/envs/conda-build-docs/lib/python3.8/site-packages/IPython/core/interactiveshell.py\u001b[0m in \u001b[0;36menable_matplotlib\u001b[0;34m(self, gui)\u001b[0m\n\u001b[1;32m   3492\u001b[0m         \"\"\"\n\u001b[1;32m   3493\u001b[0m         \u001b[0;32mfrom\u001b[0m \u001b[0mIPython\u001b[0m\u001b[0;34m.\u001b[0m\u001b[0mcore\u001b[0m \u001b[0;32mimport\u001b[0m \u001b[0mpylabtools\u001b[0m \u001b[0;32mas\u001b[0m \u001b[0mpt\u001b[0m\u001b[0;34m\u001b[0m\u001b[0;34m\u001b[0m\u001b[0m\n\u001b[0;32m-> 3494\u001b[0;31m         \u001b[0mgui\u001b[0m\u001b[0;34m,\u001b[0m \u001b[0mbackend\u001b[0m \u001b[0;34m=\u001b[0m \u001b[0mpt\u001b[0m\u001b[0;34m.\u001b[0m\u001b[0mfind_gui_and_backend\u001b[0m\u001b[0;34m(\u001b[0m\u001b[0mgui\u001b[0m\u001b[0;34m,\u001b[0m \u001b[0mself\u001b[0m\u001b[0;34m.\u001b[0m\u001b[0mpylab_gui_select\u001b[0m\u001b[0;34m)\u001b[0m\u001b[0;34m\u001b[0m\u001b[0;34m\u001b[0m\u001b[0m\n\u001b[0m\u001b[1;32m   3495\u001b[0m \u001b[0;34m\u001b[0m\u001b[0m\n\u001b[1;32m   3496\u001b[0m         \u001b[0;32mif\u001b[0m \u001b[0mgui\u001b[0m \u001b[0;34m!=\u001b[0m \u001b[0;34m'inline'\u001b[0m\u001b[0;34m:\u001b[0m\u001b[0;34m\u001b[0m\u001b[0;34m\u001b[0m\u001b[0m\n",
      "\u001b[0;32m~/miniconda3/envs/conda-build-docs/lib/python3.8/site-packages/IPython/core/pylabtools.py\u001b[0m in \u001b[0;36mfind_gui_and_backend\u001b[0;34m(gui, gui_select)\u001b[0m\n\u001b[1;32m    278\u001b[0m     \"\"\"\n\u001b[1;32m    279\u001b[0m \u001b[0;34m\u001b[0m\u001b[0m\n\u001b[0;32m--> 280\u001b[0;31m     \u001b[0;32mimport\u001b[0m \u001b[0mmatplotlib\u001b[0m\u001b[0;34m\u001b[0m\u001b[0;34m\u001b[0m\u001b[0m\n\u001b[0m\u001b[1;32m    281\u001b[0m \u001b[0;34m\u001b[0m\u001b[0m\n\u001b[1;32m    282\u001b[0m     \u001b[0;32mif\u001b[0m \u001b[0mgui\u001b[0m \u001b[0;32mand\u001b[0m \u001b[0mgui\u001b[0m \u001b[0;34m!=\u001b[0m \u001b[0;34m'auto'\u001b[0m\u001b[0;34m:\u001b[0m\u001b[0;34m\u001b[0m\u001b[0;34m\u001b[0m\u001b[0m\n",
      "\u001b[0;31mModuleNotFoundError\u001b[0m: No module named 'matplotlib'"
     ]
    }
   ],
   "source": [
    "%matplotlib inline\n",
    "import matplotlib.pyplot as plt\n",
    "\n",
    "\n",
    "def mesh_fig(mesh, meshR, name):\n",
    "\n",
    "    fig = plt.figure(figsize=(10, 10), facecolor=\"none\")\n",
    "    ax  = plt.subplot(111)\n",
    "    ax.axis('off')\n",
    "\n",
    "    generator = mesh\n",
    "    refined   = meshR\n",
    "\n",
    "    x0 = generator.x\n",
    "    y0 = generator.y\n",
    "\n",
    "    xR = refined.x\n",
    "    yR = refined.y\n",
    "    \n",
    "\n",
    "    ax.scatter(x0, y0, color=\"Red\", marker=\"o\", s=50)\n",
    "    ax.scatter(xR, yR, color=\"DarkBlue\", marker=\"o\", s=10)\n",
    "    \n",
    "    ax.triplot(xR, yR, refined.simplices, color=\"black\", linewidth=0.5)\n",
    "\n",
    "    fig.savefig(name, dpi=250, transparent=True)\n",
    "    \n",
    "    return\n",
    "\n",
    "\n",
    "mesh_fig(ellip2,  ellip2mv,  \"EdgeByVertex1to10\" )\n",
    "mesh_fig(ellip2,  ellip2ev,  \"EdgeByVertexT1to10\" )\n",
    "mesh_fig(ellip2,  ellip2cv,  \"CentroidByVertexT1to10\" )\n",
    "mesh_fig(ellip2,  ellip2et,  \"EdgeByTriangle1to10\" )\n",
    "mesh_fig(ellip2,  ellip2ct,  \"CentroidByTriangle1to10\" )\n"
   ]
  },
  {
   "cell_type": "markdown",
   "metadata": {},
   "source": [
    "## Targetted refinement\n",
    "\n",
    "Here we refine a triangulation to a specific criterion - resolving two points in distinct triangles or with distinct nearest neighbour vertices."
   ]
  },
  {
   "cell_type": "code",
   "execution_count": 5,
   "metadata": {},
   "outputs": [],
   "source": [
    "points = np.array([[ 3.33, 3.33], [7.77, 7.77]]).T"
   ]
  },
  {
   "cell_type": "code",
   "execution_count": 6,
   "metadata": {},
   "outputs": [
    {
     "name": "stdout",
     "output_type": "stream",
     "text": [
      "refinement_steps = 11\n"
     ]
    }
   ],
   "source": [
    "triangulations = [ellip1]\n",
    "nearest, distances = triangulations[-1].nearest_vertex(points[:,0], points[:,1])\n",
    "\n",
    "max_depth = 10\n",
    "\n",
    "while nearest[0] == nearest[1] and max_depth > 0:\n",
    "\n",
    "    xs, ys = triangulations[-1].centroid_refine_triangulation_by_vertices(vertices=nearest[0])\n",
    "    new_triangulation = stripy.Triangulation(xs, ys)\n",
    "    nearest, distances = new_triangulation.nearest_vertex(points[:,0], points[:,1])\n",
    "    triangulations.append(new_triangulation)\n",
    "    \n",
    "    max_depth -= 1\n",
    "\n",
    "print(\"refinement_steps = {}\".format(len(triangulations)))\n",
    "\n",
    "centroid_triangulations = triangulations[:]"
   ]
  },
  {
   "cell_type": "code",
   "execution_count": 7,
   "metadata": {},
   "outputs": [
    {
     "name": "stdout",
     "output_type": "stream",
     "text": [
      "refinement_steps = 11\n"
     ]
    }
   ],
   "source": [
    "triangulations = [ellip1]\n",
    "nearest, distances = triangulations[-1].nearest_vertex(points[:,0], points[:,1])\n",
    "\n",
    "max_depth = 10\n",
    "\n",
    "while nearest[0] == nearest[1] and max_depth > 0:\n",
    "\n",
    "    xs, ys = triangulations[-1].edge_refine_triangulation_by_vertices(vertices=nearest[0])\n",
    "    new_triangulation = stripy.Triangulation(xs, ys)\n",
    "    nearest, distances = new_triangulation.nearest_vertex(points[:,0], points[:,1])\n",
    "    triangulations.append(new_triangulation)\n",
    "    \n",
    "    max_depth -= 1\n",
    "\n",
    "print(\"refinement_steps = {}\".format(len(triangulations)))\n",
    "\n",
    "edge_triangulations = triangulations[:]"
   ]
  },
  {
   "cell_type": "code",
   "execution_count": 8,
   "metadata": {},
   "outputs": [
    {
     "name": "stdout",
     "output_type": "stream",
     "text": [
      "[435 435]\n",
      "[496 496]\n",
      "[503 503]\n",
      "[509 509]\n",
      "[515 515]\n",
      "[521 521]\n",
      "[524 524]\n",
      "[531 531]\n",
      "[532 532]\n",
      "[533 533]\n",
      "refinement_steps = 11\n"
     ]
    }
   ],
   "source": [
    "triangulations = [ellip1]\n",
    "\n",
    "in_triangle = triangulations[-1].containing_triangle(points[:,0], points[:,1])\n",
    "\n",
    "max_depth = 10\n",
    "\n",
    "while in_triangle[0] == in_triangle[1] and max_depth > 0:\n",
    "\n",
    "    xs, ys = triangulations[-1].edge_refine_triangulation_by_triangles(in_triangle[0])\n",
    "    new_triangulation = stripy.Triangulation(xs, ys)\n",
    "    in_triangle = new_triangulation.containing_triangle(points[:,0], points[:,1])\n",
    "    triangulations.append(new_triangulation)\n",
    "    \n",
    "    print(in_triangle)\n",
    "\n",
    "\n",
    "    \n",
    "    if in_triangle.shape[0] == 0:\n",
    "        break\n",
    "    \n",
    "    max_depth -= 1\n",
    "\n",
    "print(\"refinement_steps = {}\".format(len(triangulations)))\n",
    "\n",
    "edge_t_triangulations = triangulations[:]"
   ]
  },
  {
   "cell_type": "code",
   "execution_count": 9,
   "metadata": {},
   "outputs": [
    {
     "name": "stdout",
     "output_type": "stream",
     "text": [
      "[418 418]\n",
      "[434 434]\n",
      "[435 435]\n",
      "[123 123]\n",
      "[494 494]\n",
      "[496 496]\n",
      "[497 497]\n",
      "[499 499]\n",
      "[503 503]\n",
      "[503 503]\n",
      "refinement_steps = 11\n"
     ]
    }
   ],
   "source": [
    "triangulations = [ellip1]\n",
    "\n",
    "in_triangle = triangulations[-1].containing_triangle(points[:,0], points[:,1])\n",
    "\n",
    "max_depth = 10\n",
    "\n",
    "while in_triangle[0] == in_triangle[1] and max_depth > 0:\n",
    "\n",
    "    xs, ys = triangulations[-1].centroid_refine_triangulation_by_triangles(in_triangle[0])\n",
    "    new_triangulation = stripy.Triangulation(xs, ys)\n",
    "    in_triangle = new_triangulation.containing_triangle(points[:,0], points[:,1])\n",
    "    triangulations.append(new_triangulation)\n",
    "    \n",
    "    print(in_triangle)\n",
    "    \n",
    "    if in_triangle.shape[0] == 0:\n",
    "        break\n",
    "    \n",
    "    max_depth -= 1\n",
    "\n",
    "print(\"refinement_steps = {}\".format(len(triangulations)))\n",
    "\n",
    "centroid_t_triangulations = triangulations[:]"
   ]
  },
  {
   "cell_type": "markdown",
   "metadata": {},
   "source": [
    "## Visualisation of targetted refinement"
   ]
  },
  {
   "cell_type": "code",
   "execution_count": 10,
   "metadata": {},
   "outputs": [
    {
     "ename": "ModuleNotFoundError",
     "evalue": "No module named 'matplotlib'",
     "output_type": "error",
     "traceback": [
      "\u001b[0;31m---------------------------------------------------------------------------\u001b[0m",
      "\u001b[0;31mModuleNotFoundError\u001b[0m                       Traceback (most recent call last)",
      "\u001b[0;32m<ipython-input-10-94be749aaf89>\u001b[0m in \u001b[0;36m<module>\u001b[0;34m\u001b[0m\n\u001b[0;32m----> 1\u001b[0;31m \u001b[0;32mimport\u001b[0m \u001b[0mmatplotlib\u001b[0m\u001b[0;34m.\u001b[0m\u001b[0mpyplot\u001b[0m \u001b[0;32mas\u001b[0m \u001b[0mplt\u001b[0m\u001b[0;34m\u001b[0m\u001b[0;34m\u001b[0m\u001b[0m\n\u001b[0m\u001b[1;32m      2\u001b[0m \u001b[0mget_ipython\u001b[0m\u001b[0;34m(\u001b[0m\u001b[0;34m)\u001b[0m\u001b[0;34m.\u001b[0m\u001b[0mrun_line_magic\u001b[0m\u001b[0;34m(\u001b[0m\u001b[0;34m'matplotlib'\u001b[0m\u001b[0;34m,\u001b[0m \u001b[0;34m'inline'\u001b[0m\u001b[0;34m)\u001b[0m\u001b[0;34m\u001b[0m\u001b[0;34m\u001b[0m\u001b[0m\n\u001b[1;32m      3\u001b[0m \u001b[0;34m\u001b[0m\u001b[0m\n\u001b[1;32m      4\u001b[0m \u001b[0mstr_fmt\u001b[0m \u001b[0;34m=\u001b[0m \u001b[0;34m\"{:18} --- {} simplices,  equant max = {:.2f},  equant min = {:.2f},  size ratio = {:.2f}\"\u001b[0m\u001b[0;34m\u001b[0m\u001b[0;34m\u001b[0m\u001b[0m\n\u001b[1;32m      5\u001b[0m \u001b[0;34m\u001b[0m\u001b[0m\n",
      "\u001b[0;31mModuleNotFoundError\u001b[0m: No module named 'matplotlib'"
     ]
    }
   ],
   "source": [
    "import matplotlib.pyplot as plt\n",
    "%matplotlib inline\n",
    "\n",
    "str_fmt = \"{:18} --- {} simplices,  equant max = {:.2f},  equant min = {:.2f},  size ratio = {:.2f}\"\n",
    "\n",
    "\n",
    "mesh_fig(edge_triangulations[0],        edge_triangulations[-1],     \"EdgeByVertex\" )\n",
    "\n",
    "T = edge_triangulations[-1]\n",
    "E = np.array(T.edge_lengths()).T\n",
    "A = np.array(T.areas()).T\n",
    "equant = np.max(E, axis=1) / np.min(E, axis=1)\n",
    "size_ratio = np.sqrt(np.max(A) / np.min(A))\n",
    "print(str_fmt.format(\"EdgeByVertex\", T.simplices.shape[0], equant.max(), equant.min(), size_ratio))\n",
    "\n",
    "\n",
    "mesh_fig(edge_t_triangulations[0],      edge_t_triangulations[-1],     \"EdgeByTriangle\" )\n",
    "\n",
    "T = edge_t_triangulations[-1]\n",
    "E = np.array(T.edge_lengths()).T\n",
    "A = np.array(T.areas()).T\n",
    "equant = np.max(E, axis=1) / np.min(E, axis=1)\n",
    "size_ratio = np.sqrt(np.max(A) / np.min(A))\n",
    "print(str_fmt.format(\"EdgeByTriangle\", T.simplices.shape[0], equant.max(), equant.min(), size_ratio))\n",
    "\n",
    "\n",
    "mesh_fig(centroid_triangulations[0],    centroid_triangulations[-1],   \"CentroidByVertex\" )\n",
    "\n",
    "T = centroid_triangulations[-1]\n",
    "E = np.array(T.edge_lengths()).T\n",
    "A = np.array(T.areas()).T\n",
    "equant = np.max(E, axis=1) / np.min(E, axis=1)\n",
    "size_ratio = np.sqrt(np.max(A) / np.min(A))\n",
    "print(str_fmt.format(\"CentroidByVertex\", T.simplices.shape[0], equant.max(), equant.min(), size_ratio))\n",
    "\n",
    "\n",
    "\n",
    "mesh_fig(centroid_t_triangulations[0],  centroid_t_triangulations[-1], \"CentroidByTriangle\" )\n",
    "\n",
    "T = centroid_t_triangulations[-1]\n",
    "E = np.array(T.edge_lengths()).T\n",
    "A = np.array(T.areas()).T\n",
    "equant = np.max(E, axis=1) / np.min(E, axis=1)\n",
    "size_ratio = np.sqrt(np.max(A) / np.min(A))\n",
    "print(str_fmt.format(\"CentroidByTriangle\", T.simplices.shape[0], equant.max(), equant.min(), size_ratio))"
   ]
  },
  {
   "cell_type": "code",
   "execution_count": null,
   "metadata": {},
   "outputs": [],
   "source": []
  }
 ],
 "metadata": {
  "jupytext": {
   "text_representation": {
    "extension": ".md",
    "format_name": "myst",
    "format_version": 0.12,
    "jupytext_version": "1.6.0"
   }
  },
  "kernelspec": {
   "display_name": "Python 3",
   "language": "python",
   "name": "python3"
  },
  "language_info": {
   "codemirror_mode": {
    "name": "ipython",
    "version": 3
   },
   "file_extension": ".py",
   "mimetype": "text/x-python",
   "name": "python",
   "nbconvert_exporter": "python",
   "pygments_lexer": "ipython3",
   "version": "3.8.6"
  },
  "source_map": [
   12,
   31,
   43,
   49,
   66,
   78,
   102,
   106,
   143,
   149,
   153,
   173,
   193,
   221,
   245,
   249,
   297
  ]
 },
 "nbformat": 4,
 "nbformat_minor": 4
}